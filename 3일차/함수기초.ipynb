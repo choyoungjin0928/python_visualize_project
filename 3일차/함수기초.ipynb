{
 "cells": [
  {
   "cell_type": "code",
   "execution_count": 1,
   "metadata": {},
   "outputs": [
    {
     "name": "stdout",
     "output_type": "stream",
     "text": [
      "hi\n",
      "hello\n"
     ]
    }
   ],
   "source": [
    "def 출력():\n",
    "    print('hi')\n",
    "    print('hello')\n",
    "출력()"
   ]
  },
  {
   "cell_type": "code",
   "execution_count": 4,
   "metadata": {},
   "outputs": [
    {
     "name": "stdout",
     "output_type": "stream",
     "text": [
      "몇 년인가요?2020\n",
      "몇 월인가요?12\n",
      "몇 일인가요?31\n",
      "월요일\n",
      "12월 31일\n",
      "2020년 4일 남았습니다.\n"
     ]
    }
   ],
   "source": [
    "def 출력(y, m, d):\n",
    "    print(\"월요일\")\n",
    "    print(\"%2d월 %2d일\" %(m, d))\n",
    "    print(\"%4d년 4일 남았습니다.\" %(y))\n",
    "    \n",
    "y = int(input(\"몇 년인가요?\"))\n",
    "m = int(input(\"몇 월인가요?\"))\n",
    "d = int(input(\"몇 일인가요?\"))\n",
    "출력(y, m, d)"
   ]
  },
  {
   "cell_type": "code",
   "execution_count": null,
   "metadata": {},
   "outputs": [],
   "source": []
  }
 ],
 "metadata": {
  "kernelspec": {
   "display_name": "Python 3",
   "language": "python",
   "name": "python3"
  },
  "language_info": {
   "codemirror_mode": {
    "name": "ipython",
    "version": 3
   },
   "file_extension": ".py",
   "mimetype": "text/x-python",
   "name": "python",
   "nbconvert_exporter": "python",
   "pygments_lexer": "ipython3",
   "version": "3.8.5"
  }
 },
 "nbformat": 4,
 "nbformat_minor": 4
}
