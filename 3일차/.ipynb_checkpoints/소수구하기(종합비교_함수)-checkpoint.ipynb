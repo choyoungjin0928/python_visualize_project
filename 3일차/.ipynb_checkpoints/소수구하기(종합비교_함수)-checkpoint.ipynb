{
 "cells": [
  {
   "cell_type": "code",
   "execution_count": 10,
   "metadata": {},
   "outputs": [
    {
     "name": "stdout",
     "output_type": "stream",
     "text": [
      "1보다 큰 정수 입력 : 7\n",
      "소수입니다\n",
      "초급코드 :  0.0010111331939697266\n"
     ]
    }
   ],
   "source": [
    "import math\n",
    "import time\n",
    "\n",
    "def prime1(n):\n",
    "    for i in range(2, n, 1):\n",
    "        global count\n",
    "        count = 0\n",
    "        if n % i == 0:\n",
    "            count = 1\n",
    "            break\n",
    "    return count1\n",
    "#초급코드\n",
    "count = 0\n",
    "n = int(input(\"1보다 큰 정수 입력 : \"))\n",
    "start1 = time.time()\n",
    "result = prime1(n)\n",
    "end1 = time.time()\n",
    "if count == 0 :\n",
    "    print(\"소수입니다\")\n",
    "else :\n",
    "    print(\"소수가 아닙니다\")\n",
    "print(\"초급코드 : \", end1-start1)\n",
    "\n",
    "#중급코드\n",
    "count = 0\n",
    "start2 = time.time()\n",
    "for i in range(2, n//2, 1):\n",
    "    if n % i == 0 :\n",
    "        count = 1\n",
    "        break\n",
    "end2 = time.time()\n",
    "if count == 0 :\n",
    "    print(\"소수입니다\")\n",
    "else :\n",
    "    print(\"소수가 아닙니다\")\n",
    "print(\"초급코드 : \", end2-start2)\n",
    "\n",
    "#고급코드\n",
    "count = 0\n",
    "start3 = time.time()\n",
    "for i in range(2, int(math.sqrt(n))+1, 1):\n",
    "    if n % i == 0 :\n",
    "        count = 1\n",
    "        break\n",
    "end3 = time.time()\n",
    "if count == 0 :\n",
    "    print(\"소수입니다\")\n",
    "else :\n",
    "    print(\"소수가 아닙니다\")\n"
   ]
  },
  {
   "cell_type": "code",
   "execution_count": null,
   "metadata": {},
   "outputs": [],
   "source": []
  }
 ],
 "metadata": {
  "kernelspec": {
   "display_name": "Python 3",
   "language": "python",
   "name": "python3"
  },
  "language_info": {
   "codemirror_mode": {
    "name": "ipython",
    "version": 3
   },
   "file_extension": ".py",
   "mimetype": "text/x-python",
   "name": "python",
   "nbconvert_exporter": "python",
   "pygments_lexer": "ipython3",
   "version": "3.8.5"
  }
 },
 "nbformat": 4,
 "nbformat_minor": 4
}
